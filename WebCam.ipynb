{
 "cells": [
  {
   "cell_type": "code",
   "execution_count": 2,
   "id": "9ee2b913-eb12-49c6-875c-3f69524236b4",
   "metadata": {},
   "outputs": [
    {
     "name": "stdout",
     "output_type": "stream",
     "text": [
      "Stream stopped.\n"
     ]
    }
   ],
   "source": [
    "from IPython.display import display, clear_output\n",
    "import cv2\n",
    "import numpy as np\n",
    "from tensorflow.keras.models import load_model\n",
    "from PIL import Image\n",
    "import time\n",
    "\n",
    "# Load your pre-trained emotion classifier model\n",
    "emotion_model = load_model('haaugmentation_model.keras')\n",
    "\n",
    "# Load the Haar Cascade for face detection\n",
    "face_cascade = cv2.CascadeClassifier(cv2.data.haarcascades + 'haarcascade_frontalface_default.xml')\n",
    "\n",
    "# Initialize the webcam\n",
    "cap = cv2.VideoCapture(0)\n",
    "\n",
    "try:\n",
    "    while True:\n",
    "        ret, frame = cap.read()\n",
    "        if not ret:\n",
    "            break\n",
    "\n",
    "        # Convert the image from BGR to RGB\n",
    "        frame = cv2.cvtColor(frame, cv2.COLOR_BGR2RGB)\n",
    "\n",
    "        # Convert frame to grayscale for face detection\n",
    "        gray = cv2.cvtColor(frame, cv2.COLOR_RGB2GRAY)\n",
    "\n",
    "        # Detect faces in the image\n",
    "        faces = face_cascade.detectMultiScale(gray, scaleFactor=1.1, minNeighbors=5, minSize=(30, 30), flags=cv2.CASCADE_SCALE_IMAGE)\n",
    "\n",
    "        for (x, y, w, h) in faces:\n",
    "            face_roi = gray[y:y+h, x:x+w]\n",
    "            face_roi = cv2.resize(face_roi, (48, 48))\n",
    "            face_roi = face_roi / 255.0\n",
    "            face_roi = np.expand_dims(face_roi, axis=0)\n",
    "            face_roi = np.expand_dims(face_roi, axis=3)\n",
    "\n",
    "            # Predicting the emotion\n",
    "            emotion_probabilities = emotion_model.predict(face_roi)\n",
    "            print(\"Emotion probabilities:\", emotion_probabilities)  # Debug output\n",
    "\n",
    "            # Assuming the output is a single probability of being 'Happy'\n",
    "            happy_probability = emotion_probabilities[0][0]\n",
    "            emotion_text = \"Happy\" if happy_probability > 0.5 else \"Angry\"\n",
    "\n",
    "            cv2.rectangle(frame, (x, y), (x+w, y+h), (255, 0, 0), 2)\n",
    "            cv2.putText(frame, emotion_text, (x, y-10), cv2.FONT_HERSHEY_SIMPLEX, 0.9, (36,255,12), 2)\n",
    "\n",
    "        # Convert to PIL Image for display\n",
    "        im = Image.fromarray(frame)\n",
    "\n",
    "        # Display image\n",
    "        display(im)\n",
    "        clear_output(wait=True)\n",
    "\n",
    "        time.sleep(0.03)  # Adjust this based on your webcam's framerate capabilities\n",
    "\n",
    "except KeyboardInterrupt:\n",
    "    print(\"Stream stopped.\")\n",
    "    cap.release()"
   ]
  },
  {
   "cell_type": "code",
   "execution_count": null,
   "id": "4b6edb3c-41d3-47f8-9fab-36862d2ab8d5",
   "metadata": {},
   "outputs": [],
   "source": []
  },
  {
   "cell_type": "code",
   "execution_count": null,
   "id": "9dc8be2c-bd2e-47d2-aaea-918fd12430b1",
   "metadata": {},
   "outputs": [],
   "source": []
  },
  {
   "cell_type": "code",
   "execution_count": null,
   "id": "9788af24-54f3-4d3a-bc11-181bfc9e4806",
   "metadata": {},
   "outputs": [],
   "source": []
  },
  {
   "cell_type": "code",
   "execution_count": null,
   "id": "c4035040-39fc-4d50-8434-f8521ed30413",
   "metadata": {},
   "outputs": [],
   "source": []
  }
 ],
 "metadata": {
  "kernelspec": {
   "display_name": "Python 3 (ipykernel)",
   "language": "python",
   "name": "python3"
  },
  "language_info": {
   "codemirror_mode": {
    "name": "ipython",
    "version": 3
   },
   "file_extension": ".py",
   "mimetype": "text/x-python",
   "name": "python",
   "nbconvert_exporter": "python",
   "pygments_lexer": "ipython3",
   "version": "3.12.1"
  }
 },
 "nbformat": 4,
 "nbformat_minor": 5
}
